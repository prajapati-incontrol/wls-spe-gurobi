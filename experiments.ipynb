{
 "cells": [
  {
   "cell_type": "markdown",
   "id": "1c36e962",
   "metadata": {},
   "source": [
    "## PYOMO 101"
   ]
  },
  {
   "cell_type": "code",
   "execution_count": null,
   "id": "1c800451",
   "metadata": {},
   "outputs": [],
   "source": [
    "import pyomo.environ as pyo\n",
    "\n",
    "model = pyo.ConcreteModel()\n",
    "\n",
    "print(vars(model))\n",
    "\n",
    "model.x = pyo.Var([1,2], domain=pyo.NonNegativeReals)\n",
    "\n",
    "model.OBJ = pyo.Objective(expr= 2*model.x[1] + 3*model.x[2])\n",
    "\n",
    "model.Constraint1 = pyo.Constraint(expr = 3*model.x[1] + 4*model.x[2] >= 1)\n",
    "\n",
    "solver = pyo.SolverFactory(\"gurobi\")\n",
    "result = solver.solve(model)\n",
    "result"
   ]
  },
  {
   "cell_type": "markdown",
   "id": "634a5afa",
   "metadata": {},
   "source": [
    "## GurobiPy "
   ]
  },
  {
   "cell_type": "code",
   "execution_count": 1,
   "id": "7e326d11",
   "metadata": {},
   "outputs": [
    {
     "name": "stdout",
     "output_type": "stream",
     "text": [
      "Optimal objective value: 3.0\n",
      "Solution values: x=1.0, y=0.0, z=1.0\n"
     ]
    }
   ],
   "source": [
    "import gurobipy as gp\n",
    "import logging \n",
    "import os \n",
    "\n",
    "# configure logging\n",
    "log_dir = \"logs\"\n",
    "log_file = \"script_log.txt\"\n",
    "\n",
    "# ensure log directory exists\n",
    "os.makedirs(log_dir, exist_ok=True)\n",
    "\n",
    "logging.basicConfig(\n",
    "    filename=os.path.join(log_dir, log_file),\n",
    "    level=logging.INFO,\n",
    "    format=\"%(asctime)s - %(levelname)s - %(message)s\",\n",
    ")\n",
    "\n",
    "env = gp.Env(params={\"LogToConsole\": 0})\n",
    "\n",
    "# Create a new model\n",
    "m = gp.Model(env=env)\n",
    "\n",
    "# Create variables\n",
    "x = m.addVar(vtype='B', name=\"x\")\n",
    "y = m.addVar(vtype='B', name=\"y\")\n",
    "z = m.addVar(vtype='B', name=\"z\")\n",
    "\n",
    "# Set objective function\n",
    "m.setObjective(x + y + 2 * z, gp.GRB.MAXIMIZE)\n",
    "\n",
    "# Add constraints\n",
    "m.addConstr(x + 2 * y + 3 * z <= 4)\n",
    "m.addConstr(x + y >= 1)\n",
    "\n",
    "# Solve it!\n",
    "m.optimize()\n",
    "\n",
    "print(f\"Optimal objective value: {m.objVal}\")\n",
    "print(f\"Solution values: x={x.X}, y={y.X}, z={z.X}\")"
   ]
  },
  {
   "cell_type": "code",
   "execution_count": 3,
   "id": "4e7a55a3",
   "metadata": {},
   "outputs": [
    {
     "name": "stdout",
     "output_type": "stream",
     "text": [
      "None\n"
     ]
    }
   ],
   "source": [
    "print(gp.disposeDefaultEnv())"
   ]
  },
  {
   "cell_type": "code",
   "execution_count": 4,
   "id": "60b8134f",
   "metadata": {},
   "outputs": [
    {
     "name": "stdout",
     "output_type": "stream",
     "text": [
      "Set parameter Username\n",
      "Set parameter LicenseID to value 2654438\n",
      "Academic license - for non-commercial use only - expires 2026-04-19\n",
      "\n",
      " PARAMETER NAME:\n",
      "   Cuts\n",
      "\n",
      " TYPE:\n",
      "   Integer\n",
      "\n",
      " PURPOSE:\n",
      "   Global cut aggressiveness setting. Use value 0 to shut off cuts, 1 for\n",
      "   moderate cut generation, 2 for aggressive cut generation, and 3 for\n",
      "   very aggressive cut generation. The default -1 value chooses\n",
      "   automatically. This parameter is overridden by the parameters that\n",
      "   control individual cut types (e.g., CliqueCuts).\n",
      "\n",
      "   Note:\n",
      "\n",
      "     Only affects mixed integer programming (MIP) models\n",
      "\n",
      " VALUES:\n",
      "   Minimum : -1\n",
      "   Maximum : 3\n",
      "   Default : -1\n",
      "\n",
      "\n",
      " PARAMETER NAME:\n",
      "   Heuristics\n",
      "\n",
      " TYPE:\n",
      "   Double\n",
      "\n",
      " PURPOSE:\n",
      "   Determines the amount of time spent in MIP heuristics. You can think\n",
      "   of the value as the desired fraction of total MIP runtime devoted to\n",
      "   heuristics (so by default, we aim to spend 5% of runtime on\n",
      "   heuristics). Larger values produce more and better feasible solutions,\n",
      "   at a cost of slower progress in the best bound.\n",
      "\n",
      "   Note:\n",
      "\n",
      "     Only affects mixed integer programming (MIP) models\n",
      "\n",
      " VALUES:\n",
      "   Minimum : 0.0\n",
      "   Maximum : 1.0\n",
      "   Default : 0.05\n",
      "\n",
      "Matching parameters: ['Cuts', 'CliqueCuts', 'CoverCuts', 'FlowCoverCuts', 'FlowPathCuts', 'GUBCoverCuts', 'ImpliedCuts', 'ProjImpliedCuts', 'DualImpliedCuts', 'MIPSepCuts', 'MIRCuts', 'StrongCGCuts', 'NetworkCuts', 'SubMIPCuts', 'ZeroHalfCuts', 'ModKCuts', 'InfProofCuts', 'RLTCuts', 'RelaxLiftCuts', 'BQPCuts', 'PSDCuts', 'LiftProjectCuts', 'MixingCuts']\n"
     ]
    }
   ],
   "source": [
    "gp.paramHelp(\"Cuts\")\n",
    "gp.paramHelp(\"Heu*\")\n",
    "gp.paramHelp(\"*cuts\")"
   ]
  },
  {
   "cell_type": "markdown",
   "id": "aa621cb9",
   "metadata": {},
   "source": [
    "## Study line parameters "
   ]
  },
  {
   "cell_type": "code",
   "execution_count": 1,
   "id": "25a0c389",
   "metadata": {},
   "outputs": [
    {
     "name": "stderr",
     "output_type": "stream",
     "text": [
      "numba cannot be imported and numba functions are disabled.\n",
      "Probably the execution is slow.\n",
      "Please install numba to gain a massive speedup.\n",
      "(or if you prefer slow execution, set the flag numba=False to avoid this warning!)\n"
     ]
    }
   ],
   "source": [
    "import pandapower as pp \n",
    "import numpy as np \n",
    "\n",
    "net = pp.create_empty_network()\n",
    "\n",
    "bus1 = pp.create_bus(net, vn_kv=20.0, name=\"Bus 1\")\n",
    "bus2 = pp.create_bus(net, vn_kv=20.0, name=\"Bus 2\")\n",
    "\n",
    "\n",
    "# standard 20 kV line type \n",
    "std_line_type = \"NAYY 4x50 SE\"\n",
    "\n",
    "# Create standard lines\n",
    "pp.create_line(net, from_bus=bus1, to_bus=bus2, length_km=1.0,\n",
    "               std_type=std_line_type, name=\"Line 1-2\")\n",
    "\n",
    "pp.create_ext_grid(net, bus=bus1, vm_pu=1.02, name=\"Grid Connection\")\n",
    "\n",
    "# pp.create_load(net, bus3, p_mw=0.2, q_mvar=0.05, name=\"Load Bus 3\")\n",
    "# pp.create_load(net, bus4, p_mw=0.3, q_mvar=0.1, name=\"Load Bus 4\")\n",
    "\n",
    "pp.runpp(net)"
   ]
  },
  {
   "cell_type": "code",
   "execution_count": 2,
   "id": "b3a9c845",
   "metadata": {},
   "outputs": [
    {
     "data": {
      "text/plain": [
       "matrix([[ 612.81031278-79.2130607j , -612.81031278+79.22625539j],\n",
       "        [-612.81031278+79.22625539j,  612.81031278-79.2130607j ]])"
      ]
     },
     "execution_count": 2,
     "metadata": {},
     "output_type": "execute_result"
    }
   ],
   "source": [
    "# bus admittance for bus 1 - 2 \n",
    "Ybus = net._ppc[\"internal\"][\"Ybus\"].todense()\n",
    "# Ybus[0,0]*Ybus[1,1] - Ybus[0,1]*Ybus[1,0]\n",
    "Ybus"
   ]
  },
  {
   "cell_type": "code",
   "execution_count": null,
   "id": "0c47d809",
   "metadata": {},
   "outputs": [
    {
     "name": "stdout",
     "output_type": "stream",
     "text": [
      "(1.0000000000000004+2.0274580625478933e-17j)\n"
     ]
    }
   ],
   "source": [
    "sys_freq = 50 # [Hz]\n",
    "# for lines\n",
    "\n",
    "# convert r_ohm_per_km to r_ohm\n",
    "r_ohm = (net.line['r_ohm_per_km'] * net.line['length_km'] / net.line['parallel']) \n",
    "\n",
    "# convert r_ohm_per_km to r_per_unit\n",
    "r_pu = (net.line['r_ohm_per_km'] * net.line['length_km'] / net.line['parallel']) / (net.bus['vn_kv'].loc[net.line['from_bus'].values]**2/net.sn_mva).values \n",
    "\n",
    "# convert x_ohm_per_km to x_ohm\n",
    "x_ohm = (net.line['x_ohm_per_km'] * net.line['length_km'] / net.line['parallel']) \n",
    "\n",
    "# convert x_ohm_per_km to x_ohm\n",
    "x_pu = (net.line['x_ohm_per_km'] * net.line['length_km'] / net.line['parallel']) / (net.bus['vn_kv'].loc[net.line['from_bus'].values]**2/net.sn_mva).values\n",
    "\n",
    "\n",
    "z_pu = r_pu + 1j*x_pu\n",
    "\n",
    "z_ohm = r_ohm + 1j*x_ohm\n",
    "\n",
    "y_series_pu = 1 / z_pu\n",
    "y_series_mho = 1 / z_ohm\n",
    "\n",
    "# convert b_ohm_per_km to b_mho\n",
    "b_mho = ( 2 * np.pi * sys_freq * net.line['c_nf_per_km'] * 10**(-9) * net.line['length_km'] * net.line['parallel']) \n",
    "\n",
    "# convert c_nf_per_km to b_pu\n",
    "b_pu = ( 2 * np.pi * sys_freq * net.line['c_nf_per_km'] * 10**(-9) * net.line['length_km'] * net.line['parallel']) * (net.bus['vn_kv'].loc[net.line['from_bus'].values]**2/net.sn_mva).values\n",
    "\n",
    "# convert r_ohm_per_km to g_mho\n",
    "g_mho = ( net.line['g_us_per_km'] * 10**(-6) * net.line['length_km'] * net.line['parallel']) \n",
    "\n",
    "# convert g_us_per_km to g_pu\n",
    "g_pu = ( 2 * np.pi * sys_freq * net.line['g_us_per_km'] * 10**(-6) * net.line['length_km'] * net.line['parallel']) * (net.bus['vn_kv'].loc[net.line['from_bus'].values]**2/net.sn_mva).values \n",
    "\n",
    "\n",
    "\n",
    "y_sh_mho = g_mho - 1j*b_mho\n",
    "\n",
    "\n",
    "\n",
    "a_1_pu = y_series_pu + y_sh_pu/2\n",
    "a_2_pu = - y_series_pu\n",
    "a_3_pu = - y_series_pu\n",
    "a_4_pu = y_series_pu + y_sh_pu/2\n",
    "\n",
    "a_1_mho = y_series_mho + y_sh_mho / 2\n",
    "a_2_mho = - y_series_mho\n",
    "a_3_mho = - y_series_mho\n",
    "a_4_mho = y_series_mho + y_sh_mho / 2\n",
    "\n",
    "\n",
    "def cal_ABCD(a_1, a_2, a_3, a_4): \n",
    "    A = -a_4/a_3 \n",
    "    B = -1/a_3\n",
    "    C = a_2 - a_1 * a_4 / a_3\n",
    "    D = -a_1/a_3\n",
    "    return A, B, C, D \n",
    "\n",
    "A_pu, B_pu, C_pu, D_pu = cal_ABCD(a_1_pu, a_2_pu, a_3_pu, a_4_pu)\n",
    "\n",
    "A, B, C, D = cal_ABCD(Ybus[0,0], Ybus[0,1], Ybus[1,0], Ybus[1,1])\n",
    "\n",
    "ABCD_conditio_pu = A_pu * D_pu - B_pu * C_pu \n",
    "ABCD_condition = A * D - B * C \n",
    "\n",
    "print(ABCD_condition)\n",
    "\n",
    "# abcd_condition_pu_ii = a_1_pu * a_4_pu - a_2_pu * a_3_pu\n",
    "# abcd_condition_mho_ii = a_1_mho * a_4_mho - a_2_mho * a_3_mho\n",
    "\n",
    "# abcd_condition_pu = a_2_pu / a_3_pu - a_1_pu * a_4_pu / a_3_pu\n",
    "# abcd_condition_mho = a_2_mho / a_3_mho - a_1_mho * a_4_mho / a_3_mho\n",
    "\n",
    "# abcd_condition_pu_num = a_2_pu / a_2_pu - a_1_pu * a_1_pu / a_2_pu\n",
    "# abcd_condition_mho_num = a_2_mho / a_2_mho - a_1_mho * a_1_mho / a_2_mho\n",
    "\n",
    "\n",
    "# abcd_condition_pu, abcd_condition_mho, abcd_condition_pu_ii, abcd_condition_mho_ii, abcd_condition_pu_num, abcd_condition_mho_num\n",
    "# net.line['a_1'] = y_series + y_sh/2\n",
    "# net.line['a_2'] = - y_series\n",
    "# net.line['a_3'] = - y_series\n",
    "# net.line['a_4'] = y_series + y_sh/2"
   ]
  },
  {
   "cell_type": "code",
   "execution_count": 4,
   "id": "3c75485a",
   "metadata": {},
   "outputs": [
    {
     "data": {
      "text/plain": [
       "array([ True])"
      ]
     },
     "execution_count": 4,
     "metadata": {},
     "output_type": "execute_result"
    }
   ],
   "source": [
    "np.round(np.real_if_close(ABCD_conditio_pu.values),2) == 1."
   ]
  },
  {
   "cell_type": "code",
   "execution_count": 5,
   "id": "e4547388",
   "metadata": {},
   "outputs": [
    {
     "data": {
      "text/plain": [
       "(0    612.810313- 79.239450j\n",
       " dtype: complex128,\n",
       " 0   -612.810313+ 79.226255j\n",
       " dtype: complex128,\n",
       " 0   -612.810313+ 79.226255j\n",
       " dtype: complex128,\n",
       " 0    612.810313- 79.239450j\n",
       " dtype: complex128)"
      ]
     },
     "execution_count": 5,
     "metadata": {},
     "output_type": "execute_result"
    }
   ],
   "source": [
    "a_1_pu, a_2_pu, a_3_pu, a_4_pu"
   ]
  },
  {
   "cell_type": "code",
   "execution_count": 5,
   "id": "73e79861",
   "metadata": {},
   "outputs": [
    {
     "data": {
      "text/plain": [
       "np.complex128(612.8103127766655-79.22625539012964j)"
      ]
     },
     "execution_count": 5,
     "metadata": {},
     "output_type": "execute_result"
    }
   ],
   "source": [
    "y_series_pu[0]"
   ]
  },
  {
   "cell_type": "markdown",
   "id": "29ebe5ef",
   "metadata": {},
   "source": [
    "## Study Transformer Parameters "
   ]
  },
  {
   "cell_type": "code",
   "execution_count": 21,
   "id": "50479d6b",
   "metadata": {},
   "outputs": [
    {
     "name": "stderr",
     "output_type": "stream",
     "text": [
      "numba cannot be imported and numba functions are disabled.\n",
      "Probably the execution is slow.\n",
      "Please install numba to gain a massive speedup.\n",
      "(or if you prefer slow execution, set the flag numba=False to avoid this warning!)\n"
     ]
    }
   ],
   "source": [
    "import pandapower as pp \n",
    "import numpy as np \n",
    "\n",
    "np.set_printoptions(precision=4)\n",
    "\n",
    "net = pp.create_empty_network()\n",
    "\n",
    "\n",
    "bus2 = pp.create_bus(net, vn_kv=20.0, name=\"Bus 2\")\n",
    "bus3 = pp.create_bus(net, vn_kv=0.4, name=\"Bus 3\")  # connected via transformer\n",
    "\n",
    "\n",
    "# standard 20 kV line type \n",
    "std_line_type = \"NAYY 4x50 SE\"\n",
    "\n",
    "\n",
    "pp.create_transformer(net, bus2, bus3, std_type=\"0.4 MVA 20/0.4 kV\", name=\"Trafo 2-3\")\n",
    "net.trafo.shift_degree = 0.0 # bug in pandapwer \n",
    "\n",
    "pp.create_ext_grid(net, bus=bus2, vm_pu=1.02, name=\"Grid Connection\")\n",
    "\n",
    "\n",
    "pp.runpp(net)"
   ]
  },
  {
   "cell_type": "code",
   "execution_count": 22,
   "id": "e061c466",
   "metadata": {},
   "outputs": [
    {
     "data": {
      "text/plain": [
       "array([[ 1.5837-6.4759j, -1.583 +6.4759j],\n",
       "       [-1.583 +6.4759j,  1.5837-6.4759j]])"
      ]
     },
     "execution_count": 22,
     "metadata": {},
     "output_type": "execute_result"
    }
   ],
   "source": [
    "# bus admittance for bus 1 - 2 \n",
    "Ybus = np.array(net._ppc[\"internal\"][\"Ybus\"].todense())\n",
    "# Ybus[0,0]*Ybus[1,1] - Ybus[0,1]*Ybus[1,0]\n",
    "Ybus"
   ]
  },
  {
   "cell_type": "code",
   "execution_count": 23,
   "id": "cd2c9ff7",
   "metadata": {},
   "outputs": [],
   "source": [
    "# 1. series losses: joule or heat losses\n",
    "# short-circuit resistance r\n",
    "r_s_trafo = (net.trafo['vkr_percent']/100 * net.sn_mva / net.trafo['sn_mva']) \n",
    "\n",
    "# short-circuit impedance magnitude\n",
    "z_s_trafo = (net.trafo['vk_percent']/100 * net.sn_mva / net.trafo['sn_mva'])\n",
    "\n",
    "# short-circuit reactance \n",
    "x_s_trafo = np.sqrt(z_s_trafo**2 - r_s_trafo**2)    \n",
    "\n",
    "# series impedance \n",
    "z_s_trafo_j = r_s_trafo + 1j*x_s_trafo\n",
    "\n",
    "# series admittance \n",
    "y_s_trafo = 1 / z_s_trafo_j\n",
    "\n",
    "# 2. magnetising losses: eddy currents and hysterisis \n",
    "# magnetising conductance g\n",
    "g_sh_trafo = (net.trafo['pfe_kw']/(net.trafo['sn_mva'] * 1000) * net.sn_mva / net.trafo['sn_mva'])\n",
    "\n",
    "# shunt admittance \n",
    "y_sh_trafo = (net.trafo['i0_percent']/100) * (net.sn_mva / net.trafo['sn_mva']) \n",
    "\n",
    "\n",
    "# magnetising impedance b\n",
    "b_sh_trafo = np.sqrt(y_sh_trafo**2- g_sh_trafo**2)\n",
    "\n",
    "y_sh_trafo_j = g_sh_trafo + 1j*b_sh_trafo\n",
    "\n",
    "# pandapower formula\n",
    "phase_shift = 0.0\n",
    "tap_nom = 1 + (net.trafo.tap_pos - net.trafo.tap_neutral) * (net.trafo.tap_step_percent / 100) # this is tau!\n",
    "N_tap = tap_nom * np.exp(1j*phase_shift)\n",
    "\n",
    "a_1 = (y_s_trafo + y_sh_trafo_j/2) * 1 / (N_tap * np.conj(N_tap))\n",
    "a_2 = -y_s_trafo * 1 / (np.conj(N_tap))\n",
    "a_3 = -y_s_trafo * 1 / (N_tap)\n",
    "a_4 = y_s_trafo + y_sh_trafo_j/2\n",
    "\n",
    "Y_bus_equations = np.array([[a_1, a_2],\n",
    "                            [a_3, a_4]])\n"
   ]
  },
  {
   "cell_type": "code",
   "execution_count": 24,
   "id": "3fe437d9",
   "metadata": {},
   "outputs": [],
   "source": [
    "Ybus = Ybus.reshape(2,2)\n",
    "Y_bus_equations = Y_bus_equations.reshape(2,2)"
   ]
  },
  {
   "cell_type": "code",
   "execution_count": 25,
   "id": "ef79c54f",
   "metadata": {},
   "outputs": [
    {
     "data": {
      "text/plain": [
       "array([[-0.0039-1.6603e-08j,  0.0003-1.6603e-08j],\n",
       "       [ 0.0003-1.6603e-08j, -0.0039-1.6603e-08j]])"
      ]
     },
     "execution_count": 25,
     "metadata": {},
     "output_type": "execute_result"
    }
   ],
   "source": [
    "Ybus - Y_bus_equations"
   ]
  },
  {
   "cell_type": "code",
   "execution_count": 26,
   "id": "9d5dabe8",
   "metadata": {},
   "outputs": [],
   "source": [
    "ps_s = net.trafo.shift_degree * np.pi/180\n",
    "net.trafo.loc[:,\"shift_rad\"] = ps_s\n",
    "tap_nom_s = 1 + (net.trafo.tap_pos - net.trafo.tap_neutral) * (net.trafo.tap_step_percent / 100)\n",
    "net.trafo.loc[:,\"tap_nom\"] = tap_nom_s \n",
    "N_tap_s = tap_nom_s * np.exp(1j*ps_s)\n",
    "\n",
    "for id, row in net.trafo.iterrows(): \n",
    "    a_1t = Ybus[row.hv_bus, row.hv_bus]\n",
    "    a_2t = Ybus[row.hv_bus, row.lv_bus]\n",
    "    a_3t = Ybus[row.lv_bus, row.hv_bus]\n",
    "    a_4t = Ybus[row.lv_bus, row.lv_bus]\n",
    "\n",
    "    # series impedance \n",
    "    y_series_trafo = - a_3t * N_tap_s[id] \n",
    "\n",
    "    # r, x \n",
    "    z_s_trafo = 1 / y_series_trafo\n",
    "    r_trafo, x_trafo = np.real(z_s_trafo), np.imag(z_s_trafo)\n",
    "\n",
    "    # net.trafo.loc[id, 'r'] = r_trafo\n",
    "    # net.trafo.loc[id, 'x'] = x_trafo \n",
    "\n",
    "    # shunt impedance \n",
    "    y_sh_trafo = 2* (a_4t - y_series_trafo) \n",
    "    g_trafo, b_trafo = np.real(y_sh_trafo), np.imag(y_sh_trafo)\n",
    "\n",
    "    # net.trafo.loc[id,'g'] = g_trafo \n",
    "    # net.trafo.loc[id,'b'] = b_trafo"
   ]
  },
  {
   "cell_type": "code",
   "execution_count": 31,
   "id": "5ecf3423",
   "metadata": {},
   "outputs": [
    {
     "data": {
      "text/plain": [
       "0    0.000337-0.000000j\n",
       "dtype: complex128"
      ]
     },
     "execution_count": 31,
     "metadata": {},
     "output_type": "execute_result"
    }
   ],
   "source": [
    "y_s_trafo - y_series_trafo"
   ]
  },
  {
   "cell_type": "code",
   "execution_count": 32,
   "id": "9a6c06be",
   "metadata": {},
   "outputs": [
    {
     "data": {
      "text/plain": [
       "0    0.007088+0.000000j\n",
       "dtype: complex128"
      ]
     },
     "execution_count": 32,
     "metadata": {},
     "output_type": "execute_result"
    }
   ],
   "source": [
    "y_sh_trafo_j - y_sh_trafo"
   ]
  },
  {
   "cell_type": "code",
   "execution_count": 33,
   "id": "de9a8d04",
   "metadata": {},
   "outputs": [
    {
     "data": {
      "text/plain": [
       "0    0.007088\n",
       "dtype: float64"
      ]
     },
     "execution_count": 33,
     "metadata": {},
     "output_type": "execute_result"
    }
   ],
   "source": [
    "g_sh_trafo - g_trafo"
   ]
  },
  {
   "cell_type": "code",
   "execution_count": 34,
   "id": "ecd28457",
   "metadata": {},
   "outputs": [
    {
     "data": {
      "text/plain": [
       "0    6.641188e-08\n",
       "dtype: float64"
      ]
     },
     "execution_count": 34,
     "metadata": {},
     "output_type": "execute_result"
    }
   ],
   "source": [
    "b_sh_trafo - b_trafo"
   ]
  },
  {
   "cell_type": "code",
   "execution_count": null,
   "id": "2384d911",
   "metadata": {},
   "outputs": [],
   "source": []
  },
  {
   "cell_type": "code",
   "execution_count": null,
   "id": "886c4a7c",
   "metadata": {},
   "outputs": [],
   "source": []
  },
  {
   "cell_type": "code",
   "execution_count": 8,
   "id": "09db586e",
   "metadata": {},
   "outputs": [
    {
     "name": "stderr",
     "output_type": "stream",
     "text": [
      "numba cannot be imported and numba functions are disabled.\n",
      "Probably the execution is slow.\n",
      "Please install numba to gain a massive speedup.\n",
      "(or if you prefer slow execution, set the flag numba=False to avoid this warning!)\n"
     ]
    },
    {
     "data": {
      "text/html": [
       "<div>\n",
       "<style scoped>\n",
       "    .dataframe tbody tr th:only-of-type {\n",
       "        vertical-align: middle;\n",
       "    }\n",
       "\n",
       "    .dataframe tbody tr th {\n",
       "        vertical-align: top;\n",
       "    }\n",
       "\n",
       "    .dataframe thead th {\n",
       "        text-align: right;\n",
       "    }\n",
       "</style>\n",
       "<table border=\"1\" class=\"dataframe\">\n",
       "  <thead>\n",
       "    <tr style=\"text-align: right;\">\n",
       "      <th></th>\n",
       "      <th>name</th>\n",
       "      <th>std_type</th>\n",
       "      <th>hv_bus</th>\n",
       "      <th>lv_bus</th>\n",
       "      <th>sn_mva</th>\n",
       "      <th>vn_hv_kv</th>\n",
       "      <th>vn_lv_kv</th>\n",
       "      <th>vk_percent</th>\n",
       "      <th>vkr_percent</th>\n",
       "      <th>pfe_kw</th>\n",
       "      <th>...</th>\n",
       "      <th>tap_step_degree</th>\n",
       "      <th>tap_pos</th>\n",
       "      <th>tap_changer_type</th>\n",
       "      <th>id_characteristic_table</th>\n",
       "      <th>tap_dependency_table</th>\n",
       "      <th>parallel</th>\n",
       "      <th>df</th>\n",
       "      <th>in_service</th>\n",
       "      <th>shift_rad</th>\n",
       "      <th>tap_nom</th>\n",
       "    </tr>\n",
       "  </thead>\n",
       "  <tbody>\n",
       "  </tbody>\n",
       "</table>\n",
       "<p>0 rows × 27 columns</p>\n",
       "</div>"
      ],
      "text/plain": [
       "Empty DataFrame\n",
       "Columns: [name, std_type, hv_bus, lv_bus, sn_mva, vn_hv_kv, vn_lv_kv, vk_percent, vkr_percent, pfe_kw, i0_percent, shift_degree, tap_side, tap_neutral, tap_min, tap_max, tap_step_percent, tap_step_degree, tap_pos, tap_changer_type, id_characteristic_table, tap_dependency_table, parallel, df, in_service, shift_rad, tap_nom]\n",
       "Index: []\n",
       "\n",
       "[0 rows x 27 columns]"
      ]
     },
     "execution_count": 8,
     "metadata": {},
     "output_type": "execute_result"
    }
   ],
   "source": [
    "net = add_branch_parameters(net)\n",
    "\n",
    "net.trafo"
   ]
  },
  {
   "cell_type": "code",
   "execution_count": 35,
   "id": "9dd71a94",
   "metadata": {},
   "outputs": [],
   "source": [
    "import pandapower "
   ]
  },
  {
   "cell_type": "code",
   "execution_count": 36,
   "id": "6c0ff611",
   "metadata": {},
   "outputs": [
    {
     "name": "stderr",
     "output_type": "stream",
     "text": [
      "numba cannot be imported and numba functions are disabled.\n",
      "Probably the execution is slow.\n",
      "Please install numba to gain a massive speedup.\n",
      "(or if you prefer slow execution, set the flag numba=False to avoid this warning!)\n"
     ]
    }
   ],
   "source": [
    "net = pp.create_empty_network()\n",
    "\n",
    "bus1 = pp.create_bus(net, vn_kv=20.0, name=\"Bus 1\")\n",
    "bus2 = pp.create_bus(net, vn_kv=20.0, name=\"Bus 2\")\n",
    "bus3 = pp.create_bus(net, vn_kv=0.4, name=\"Bus 3\")  # connected via transformer\n",
    "bus4 = pp.create_bus(net, vn_kv=20.0, name=\"Bus 4\")\n",
    "\n",
    "# standard 20 kV line type \n",
    "std_line_type = \"NAYY 4x50 SE\"\n",
    "\n",
    "# Create standard lines\n",
    "pp.create_line(net, from_bus=bus1, to_bus=bus2, length_km=1.0,\n",
    "               std_type=std_line_type, name=\"Line 1-2\")\n",
    "\n",
    "pp.create_line(net, from_bus=bus1, to_bus=bus4, length_km=1.0,\n",
    "               std_type=std_line_type, name=\"Line 1-4\")\n",
    "\n",
    "pp.create_line(net, from_bus=bus2, to_bus=bus4, length_km=1.0,\n",
    "               std_type=std_line_type, name=\"Line 2-4\")\n",
    "\n",
    "pp.create_transformer(net, bus2, bus3, std_type=\"0.25 MVA 20/0.4 kV\", name=\"Trafo 2-3\")\n",
    "net.trafo.shift_degree = 0.0 # bug in pandapwer \n",
    "\n",
    "pp.create_ext_grid(net, bus=bus2, vm_pu=1.02, name=\"Grid Connection\")\n",
    "\n",
    "pp.create_load(net, bus3, p_mw=0.2, q_mvar=0.05, name=\"Load Bus 3\")\n",
    "pp.create_load(net, bus4, p_mw=0.3, q_mvar=0.1, name=\"Load Bus 4\")\n",
    "\n",
    "pp.runpp(net)"
   ]
  },
  {
   "cell_type": "code",
   "execution_count": 53,
   "id": "474877ee",
   "metadata": {},
   "outputs": [],
   "source": [
    "from_bus, to_bus = net.line.from_bus.values, net.line.to_bus.values\n",
    "hv_bus, lv_bus = net.trafo.hv_bus.values, net.trafo.lv_bus.values\n",
    "\n",
    "src_bus = np.concat([from_bus, hv_bus])\n",
    "tgt_bus = np.concat([to_bus, lv_bus])\n",
    "\n",
    "branch_tuple = [(int(u),int(v)) for u, v in zip(src_bus, tgt_bus)]\n",
    "param_dict = {branch: [] for branch in branch_tuple}\n",
    "\n",
    "line_tuple = [(int(u),int(v)) for u, v in zip(from_bus, to_bus)]\n",
    "trafo_tuple = [(int(u),int(v)) for u, v in zip(hv_bus, lv_bus)]"
   ]
  },
  {
   "cell_type": "code",
   "execution_count": 55,
   "id": "92a79fa7",
   "metadata": {},
   "outputs": [
    {
     "data": {
      "text/plain": [
       "[(0, 1), (0, 3), (1, 3), (1, 2)]"
      ]
     },
     "execution_count": 55,
     "metadata": {},
     "output_type": "execute_result"
    }
   ],
   "source": [
    "line_tuple + trafo_tuple"
   ]
  },
  {
   "cell_type": "code",
   "execution_count": null,
   "id": "ccd81dda",
   "metadata": {},
   "outputs": [],
   "source": []
  },
  {
   "cell_type": "markdown",
   "id": "88374c3d",
   "metadata": {},
   "source": [
    "## Checking add_branch_parameters "
   ]
  },
  {
   "cell_type": "code",
   "execution_count": 9,
   "id": "4b43288c",
   "metadata": {},
   "outputs": [],
   "source": [
    "import pandapower \n",
    "import warnings "
   ]
  },
  {
   "cell_type": "code",
   "execution_count": 10,
   "id": "db7f3eb2",
   "metadata": {},
   "outputs": [],
   "source": [
    "def add_branch_parameters(net: pp.pandapowerNet): \n",
    "    \"\"\"Calculates the branch parameters of the bus-branch model. \n",
    "    if branch is line, then net.line has added columns as r, x, b, g\n",
    "    if branch is trafo, then net.trafo has added columns as r, x, b, g, tap, shift \n",
    "    \n",
    "    Assumptions: \n",
    "    No mutual inductance between lines. \n",
    "\n",
    "    Note: \n",
    "    Pandapower equations from documentation for trafo r, x, b and g are ambiguous, and do not match with the \n",
    "    internal y-bus matrices. So, branch parameters for trafo are calculated from Y_bus internals and not \n",
    "    the pandapower equations. \n",
    "\n",
    "    Returns: \n",
    "    net: Pandapower Net with added branch parameter for line and trafo. \n",
    "    \n",
    "    \"\"\"\n",
    "    # remove switches \n",
    "    net.switch.drop(net.switch.index, inplace = True)\n",
    "    net.res_switch.drop(net.res_switch.index, inplace = True)\n",
    "\n",
    "    sys_freq = 50 # [Hz]\n",
    "    \n",
    "    # check 1: if the required columns are present in lines dataframe  \n",
    "    required_columns = {\n",
    "        'line':['r_ohm_per_km', 'length_km', 'parallel', 'from_bus', 'x_ohm_per_km', 'c_nf_per_km', 'g_us_per_km'],\n",
    "        'bus':['vn_kv'],\n",
    "        'trafo': ['lv_bus', 'vn_lv_kv', 'sn_mva', 'vkr_percent', 'vk_percent', 'pfe_kw', 'i0_percent', 'hv_bus', 'vn_hv_kv']\n",
    "    }\n",
    "\n",
    "    for element, columns in required_columns.items(): \n",
    "        for column in columns:\n",
    "            if column not in net[element].columns:\n",
    "                warnings.warn(f\"Column '{column}' is missing in '{element}', padding with zeros.\")\n",
    "                net[element][column] = 0    \n",
    "    \n",
    "    # line branch parameters \n",
    "    sys_freq = 50\n",
    "\n",
    "    # convert r_ohm_per_km to r_pu\n",
    "    r_pu = (net.line['r_ohm_per_km'] * net.line['length_km'] / net.line['parallel']) / (net.bus['vn_kv'].loc[net.line['from_bus'].values]**2/net.sn_mva).values\n",
    "    net.line.loc[:,'r_pu'] = r_pu\n",
    "\n",
    "    # convert x_ohm_per_km to x_ohm\n",
    "    x_pu = (net.line['x_ohm_per_km'] * net.line['length_km'] / net.line['parallel']) / (net.bus['vn_kv'].loc[net.line['from_bus'].values]**2/net.sn_mva).values\n",
    "    net.line.loc[:,'x_pu'] = x_pu\n",
    "\n",
    "    z_pu = r_pu + 1j*x_pu\n",
    "    y_series = 1 / z_pu\n",
    "\n",
    "    # convert c_nf_per_km to b_mho\n",
    "    b_pu = ( 2 * np.pi * sys_freq * net.line['c_nf_per_km'] * 10**(-9) * net.line['length_km'] * net.line['parallel']) * (net.bus['vn_kv'].loc[net.line['from_bus'].values]**2/net.sn_mva).values \n",
    "    net.line.loc[:, 'b_pu'] = b_pu\n",
    "\n",
    "    # convert g_us_per_km to g_mho\n",
    "    g_pu = ( 2 * np.pi * sys_freq * net.line['g_us_per_km'] * 10**(-6) * net.line['length_km'] * net.line['parallel']) * (net.bus['vn_kv'].loc[net.line['from_bus'].values]**2/net.sn_mva).values\n",
    "    net.line.loc[:, 'g_pu'] = g_pu\n",
    "\n",
    "    # add zeros for tap and shift degree in lines \n",
    "    net.line.loc[:, 'tap_nom'] = 0 \n",
    "    net.line.loc[:, 'shift_rad'] = 0\n",
    "\n",
    "\n",
    "    y_sh = g_pu - 1j*b_pu    \n",
    "\n",
    "    # get Y-bus for lines only \n",
    "    a_1 = y_series + y_sh/2\n",
    "    a_2 = - y_series\n",
    "    a_3 = - y_series\n",
    "    a_4 = y_series + y_sh/2\n",
    "\n",
    "    yb_size = len(net.bus)\n",
    "\n",
    "    Ybline = np.zeros((yb_size, yb_size)).astype(complex)\n",
    "\n",
    "    fb_line = net.line.from_bus \n",
    "    tb_line = net.line.to_bus \n",
    "\n",
    "    line_idx = net.line.index \n",
    "\n",
    "    for (idx, fb, tb) in zip(line_idx, fb_line, tb_line): \n",
    "        Ybline[fb, fb] = complex(a_1[idx])\n",
    "        Ybline[fb, tb] = complex(a_2[idx])\n",
    "        Ybline[tb, fb] = complex(a_3[idx])\n",
    "        Ybline[tb, tb] = complex(a_4[idx])\n",
    "\n",
    "    # get the pandpaower internal YBus \n",
    "    pp.runpp(net)\n",
    "    Ybus = np.array(net._ppc[\"internal\"][\"Ybus\"].todense())\n",
    "\n",
    "    Ybus_trafo = Ybus - Ybline \n",
    "\n",
    "    if sum(net.trafo.tap_pos.isna()) > 0: \n",
    "        print(\"Filling nan as 0 in tap_pos, tap_neutral, tap_step_degree\")\n",
    "        net.trafo.loc[net.trafo.loc[:,'tap_pos'].isna(),'tap_pos'] = 0\n",
    "        net.trafo.loc[net.trafo.loc[:,'tap_neutral'].isna(),'tap_neutral'] = 0\n",
    "        net.trafo.loc[net.trafo.loc[:,'tap_step_degree'].isna(),'tap_step_degree'] = 0\n",
    "        \n",
    "        \n",
    "\n",
    "    ps_s = net.trafo.shift_degree * np.pi/180\n",
    "    net.trafo.loc[:,\"shift_rad\"] = ps_s\n",
    "    tap_nom_s = 1 + (net.trafo.tap_pos - net.trafo.tap_neutral) * (net.trafo.tap_step_percent / 100)\n",
    "    net.trafo.loc[:,\"tap_nom\"] = tap_nom_s \n",
    "    N_tap_s = tap_nom_s * np.exp(1j*ps_s)\n",
    "\n",
    "\n",
    "    for id, row in net.trafo.iterrows(): \n",
    "        a_1t = Ybus_trafo[row.hv_bus, row.hv_bus]\n",
    "        a_2t = Ybus_trafo[row.hv_bus, row.lv_bus]\n",
    "        a_3t = Ybus_trafo[row.lv_bus, row.hv_bus]\n",
    "        a_4t = Ybus_trafo[row.lv_bus, row.lv_bus]\n",
    "\n",
    "        # series impedance \n",
    "        y_series_trafo = - a_3t * N_tap_s[id] \n",
    "\n",
    "        # r, x \n",
    "        z_s_trafo = 1 / y_series_trafo\n",
    "        r_trafo, x_trafo = np.real(z_s_trafo), np.imag(z_s_trafo)\n",
    "\n",
    "        net.trafo.loc[id, 'r'] = r_trafo\n",
    "        net.trafo.loc[id, 'x'] = x_trafo \n",
    "\n",
    "        # shunt impedance \n",
    "        y_sh_trafo = 2* (a_4t - y_series_trafo) \n",
    "        g_trafo, b_trafo = np.real(y_sh_trafo), np.imag(y_sh_trafo)\n",
    "\n",
    "        net.trafo.loc[id,'g'] = g_trafo \n",
    "        net.trafo.loc[id,'b'] = b_trafo\n",
    "    \n",
    "    return net\n"
   ]
  },
  {
   "cell_type": "code",
   "execution_count": 11,
   "id": "077ba2af",
   "metadata": {},
   "outputs": [
    {
     "name": "stderr",
     "output_type": "stream",
     "text": [
      "numba cannot be imported and numba functions are disabled.\n",
      "Probably the execution is slow.\n",
      "Please install numba to gain a massive speedup.\n",
      "(or if you prefer slow execution, set the flag numba=False to avoid this warning!)\n"
     ]
    }
   ],
   "source": [
    "net = pp.create_empty_network()\n",
    "\n",
    "bus1 = pp.create_bus(net, vn_kv=20.0, name=\"Bus 1\")\n",
    "bus2 = pp.create_bus(net, vn_kv=20.0, name=\"Bus 2\")\n",
    "bus3 = pp.create_bus(net, vn_kv=0.4, name=\"Bus 3\")  # connected via transformer\n",
    "bus4 = pp.create_bus(net, vn_kv=20.0, name=\"Bus 4\")\n",
    "\n",
    "# standard 20 kV line type \n",
    "std_line_type = \"NAYY 4x50 SE\"\n",
    "\n",
    "# Create standard lines\n",
    "pp.create_line(net, from_bus=bus1, to_bus=bus2, length_km=1.0,\n",
    "               std_type=std_line_type, name=\"Line 1-2\")\n",
    "\n",
    "pp.create_line(net, from_bus=bus1, to_bus=bus4, length_km=1.0,\n",
    "               std_type=std_line_type, name=\"Line 1-4\")\n",
    "\n",
    "pp.create_line(net, from_bus=bus2, to_bus=bus4, length_km=1.0,\n",
    "               std_type=std_line_type, name=\"Line 2-4\")\n",
    "\n",
    "pp.create_transformer(net, bus2, bus3, std_type=\"0.25 MVA 20/0.4 kV\", name=\"Trafo 2-3\")\n",
    "net.trafo.shift_degree = 0.0 # bug in pandapwer \n",
    "\n",
    "pp.create_ext_grid(net, bus=bus2, vm_pu=1.02, name=\"Grid Connection\")\n",
    "\n",
    "pp.create_load(net, bus3, p_mw=0.2, q_mvar=0.05, name=\"Load Bus 3\")\n",
    "pp.create_load(net, bus4, p_mw=0.3, q_mvar=0.1, name=\"Load Bus 4\")\n",
    "\n",
    "pp.runpp(net)"
   ]
  },
  {
   "cell_type": "code",
   "execution_count": 12,
   "id": "2b5aaedf",
   "metadata": {},
   "outputs": [
    {
     "name": "stderr",
     "output_type": "stream",
     "text": [
      "numba cannot be imported and numba functions are disabled.\n",
      "Probably the execution is slow.\n",
      "Please install numba to gain a massive speedup.\n",
      "(or if you prefer slow execution, set the flag numba=False to avoid this warning!)\n"
     ]
    },
    {
     "data": {
      "text/html": [
       "<div>\n",
       "<style scoped>\n",
       "    .dataframe tbody tr th:only-of-type {\n",
       "        vertical-align: middle;\n",
       "    }\n",
       "\n",
       "    .dataframe tbody tr th {\n",
       "        vertical-align: top;\n",
       "    }\n",
       "\n",
       "    .dataframe thead th {\n",
       "        text-align: right;\n",
       "    }\n",
       "</style>\n",
       "<table border=\"1\" class=\"dataframe\">\n",
       "  <thead>\n",
       "    <tr style=\"text-align: right;\">\n",
       "      <th></th>\n",
       "      <th>name</th>\n",
       "      <th>std_type</th>\n",
       "      <th>hv_bus</th>\n",
       "      <th>lv_bus</th>\n",
       "      <th>sn_mva</th>\n",
       "      <th>vn_hv_kv</th>\n",
       "      <th>vn_lv_kv</th>\n",
       "      <th>vk_percent</th>\n",
       "      <th>vkr_percent</th>\n",
       "      <th>pfe_kw</th>\n",
       "      <th>...</th>\n",
       "      <th>tap_dependency_table</th>\n",
       "      <th>parallel</th>\n",
       "      <th>df</th>\n",
       "      <th>in_service</th>\n",
       "      <th>shift_rad</th>\n",
       "      <th>tap_nom</th>\n",
       "      <th>r</th>\n",
       "      <th>x</th>\n",
       "      <th>g</th>\n",
       "      <th>b</th>\n",
       "    </tr>\n",
       "  </thead>\n",
       "  <tbody>\n",
       "    <tr>\n",
       "      <th>0</th>\n",
       "      <td>Trafo 2-3</td>\n",
       "      <td>0.25 MVA 20/0.4 kV</td>\n",
       "      <td>1</td>\n",
       "      <td>2</td>\n",
       "      <td>0.25</td>\n",
       "      <td>20.0</td>\n",
       "      <td>0.4</td>\n",
       "      <td>6.0</td>\n",
       "      <td>1.44</td>\n",
       "      <td>0.8</td>\n",
       "      <td>...</td>\n",
       "      <td>False</td>\n",
       "      <td>1</td>\n",
       "      <td>1.0</td>\n",
       "      <td>True</td>\n",
       "      <td>0.0</td>\n",
       "      <td>1.0</td>\n",
       "      <td>0.05759</td>\n",
       "      <td>0.232991</td>\n",
       "      <td>0.0008</td>\n",
       "      <td>-3.727682e-08</td>\n",
       "    </tr>\n",
       "  </tbody>\n",
       "</table>\n",
       "<p>1 rows × 31 columns</p>\n",
       "</div>"
      ],
      "text/plain": [
       "        name            std_type  hv_bus  lv_bus  sn_mva  vn_hv_kv  vn_lv_kv  \\\n",
       "0  Trafo 2-3  0.25 MVA 20/0.4 kV       1       2    0.25      20.0       0.4   \n",
       "\n",
       "   vk_percent  vkr_percent  pfe_kw  ...  tap_dependency_table  parallel   df  \\\n",
       "0         6.0         1.44     0.8  ...                 False         1  1.0   \n",
       "\n",
       "   in_service  shift_rad  tap_nom        r         x       g             b  \n",
       "0        True        0.0      1.0  0.05759  0.232991  0.0008 -3.727682e-08  \n",
       "\n",
       "[1 rows x 31 columns]"
      ]
     },
     "execution_count": 12,
     "metadata": {},
     "output_type": "execute_result"
    }
   ],
   "source": [
    "net = add_branch_parameters(net)\n",
    "\n",
    "net.trafo"
   ]
  },
  {
   "cell_type": "code",
   "execution_count": 16,
   "id": "9bb17e54",
   "metadata": {},
   "outputs": [
    {
     "data": {
      "text/plain": [
       "[0, 1, 2, 3, 4]"
      ]
     },
     "execution_count": 16,
     "metadata": {},
     "output_type": "execute_result"
    }
   ],
   "source": [
    "[*range(5)]"
   ]
  },
  {
   "cell_type": "code",
   "execution_count": null,
   "id": "dd8fb388",
   "metadata": {},
   "outputs": [],
   "source": [
    "# # how many buses are there? \n",
    "# num_buses = len(net.bus.index)\n",
    "\n",
    "# # how many state-variables \n",
    "# n = 2*num_buses - 1 # \\theta_1 = 0 for reference \n",
    "\n",
    "# # consider fully-observable network, so number of measurements >= number of states \n",
    "# # using two measurements of active power and voltage at each bus \n",
    "# m = 2*num_buses\n",
    "\n",
    "# # initialize model \n",
    "# gp_model = gp.Model(\"WLS_State_Estimation\")\n",
    "\n",
    "# # measurement vector as 5% tolerance to power flow results \n",
    "# V_meas = np.random.normal(net.res_bus.vm_pu.values, 0.05/3)\n",
    "# P_meas = np.random.normal(net.res_bus.p_mw.values, 0.05/3)\n",
    "\n",
    "# # Gurobi variables for estimated voltages and angles\n",
    "# # subject to voltage violations and angle violations \n",
    "# X_vm_pu = {i: gp_model.addVar(name=f\"|V|_bus{i}\") for i in range(num_buses)}\n",
    "# X_va_rad = {i: gp_model.addVar(name=f\"A_bus{i}\") for i in range(num_buses)}\n",
    "\n",
    "# # slack bus angle \n",
    "# X_va_rad[0].LB, X_va_rad[0].UB = 0.0, 0.0 \n",
    "# gp_model.update()\n",
    "\n",
    "# # get line and transformer parameters\n",
    "# # param_dict = {(i, j): [G_ij, B_ij, g_s_ij, b_s_ij, g_sh_ij, b_sh_ij]}\n",
    "# param_dict = get_branch_parameters(net=net) \n",
    "\n",
    "\n",
    "# # get neighbor_dictionary \n",
    "# # neighbor_dict = {src: [neighbors]}\n",
    "# neighbor_dict = get_neighbor_dict(edge_index)\n",
    "\n",
    "# # Gurobi variables for estimated voltages and angles\n",
    "# # subject to voltage violations and angle violations \n",
    "# P_meas_expr = {int(i): [] for i in nodes}\n",
    "# V_meas_expr = {int(i): [] for i in nodes}\n",
    "\n",
    "# for i in nodes: \n",
    "#     i = int(i)\n",
    "#     P_meas_i = 0.0\n",
    "#     for j in neighbor_dict[i]:\n",
    "#         j = int(j)\n",
    "#         P_meas_i += X_vm_pu[i] * X_vm_pu[j] * (param_dict[(i,j)][0]*nlfunc.cos(X_va_rad[i] - X_va_rad[j]) + \n",
    "#                                                param_dict[(i,j)][1]*nlfunc.sin(X_va_rad[i] - X_va_rad[j]))\n",
    "#     # capture the expressions \n",
    "#     P_meas_expr[i] = P_meas[i] + P_meas_i \n",
    "#     V_meas_expr[i] = X_vm_pu[i] - V_meas[i]\n",
    "\n",
    "\n",
    "# objective = sum(P_meas_expr.values()) + sum(V_meas_expr.values())\n",
    "\n",
    "# gp_model.setObjective(objective, GRB.MINIMIZE)"
   ]
  }
 ],
 "metadata": {
  "kernelspec": {
   "display_name": ".venv",
   "language": "python",
   "name": "python3"
  },
  "language_info": {
   "codemirror_mode": {
    "name": "ipython",
    "version": 3
   },
   "file_extension": ".py",
   "mimetype": "text/x-python",
   "name": "python",
   "nbconvert_exporter": "python",
   "pygments_lexer": "ipython3",
   "version": "3.11.11"
  }
 },
 "nbformat": 4,
 "nbformat_minor": 5
}
