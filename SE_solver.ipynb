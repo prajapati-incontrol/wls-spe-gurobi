{
 "cells": [
  {
   "cell_type": "markdown",
   "id": "9ad056ed",
   "metadata": {},
   "source": [
    "# Power-system State-Estimation using Gurobi "
   ]
  },
  {
   "cell_type": "markdown",
   "id": "001ef648",
   "metadata": {},
   "source": [
    "This notebook will take you through the steps required to perform custom Weighted Least Squares State-Estimation for a few pandapower networks. \n",
    "\n",
    "Methodology: \n",
    "\n"
   ]
  },
  {
   "cell_type": "code",
   "execution_count": 1,
   "id": "d21af417",
   "metadata": {},
   "outputs": [],
   "source": [
    "import gurobipy as gp \n",
    "import logging \n",
    "import os \n",
    "import pandapower as pp \n",
    "import numpy as np \n",
    "import pandas as pd \n",
    "from utils import get_branch_parameters, get_edge_index_from_ppnet, get_neighbor_dict\n",
    "\n",
    "# configure logging\n",
    "log_dir = \"logs\"\n",
    "log_file = \"script_log.txt\"\n",
    "\n",
    "# ensure log directory exists\n",
    "os.makedirs(log_dir, exist_ok=True)\n",
    "\n",
    "logging.basicConfig(\n",
    "    filename=os.path.join(log_dir, log_file),\n",
    "    level=logging.INFO,\n",
    "    format=\"%(asctime)s - %(levelname)s - %(message)s\",\n",
    ")\n",
    "\n",
    "env = gp.Env(params={\"LogToConsole\": 0})"
   ]
  },
  {
   "cell_type": "markdown",
   "id": "b417ace0",
   "metadata": {},
   "source": [
    "## Consider a 4-Bus Network: \n",
    "\n",
    "<img src=\"4_bus_network/4_bus_network.001.jpeg\" width=\"500\">"
   ]
  },
  {
   "cell_type": "code",
   "execution_count": 2,
   "id": "93ee116f",
   "metadata": {},
   "outputs": [],
   "source": [
    "net = pp.create_empty_network()\n",
    "\n",
    "bus1 = pp.create_bus(net, vn_kv=20.0, name=\"Bus 1\")\n",
    "bus2 = pp.create_bus(net, vn_kv=20.0, name=\"Bus 2\")\n",
    "bus3 = pp.create_bus(net, vn_kv=0.4, name=\"Bus 3\")  # connected via transformer\n",
    "bus4 = pp.create_bus(net, vn_kv=20.0, name=\"Bus 4\")\n",
    "\n",
    "# standard 20 kV line type \n",
    "std_line_type = \"NAYY 4x50 SE\"\n",
    "\n",
    "# Create standard lines\n",
    "pp.create_line(net, from_bus=bus1, to_bus=bus2, length_km=1.0,\n",
    "               std_type=std_line_type, name=\"Line 1-2\")\n",
    "\n",
    "pp.create_line(net, from_bus=bus1, to_bus=bus4, length_km=1.0,\n",
    "               std_type=std_line_type, name=\"Line 1-4\")\n",
    "\n",
    "pp.create_line(net, from_bus=bus2, to_bus=bus4, length_km=1.0,\n",
    "               std_type=std_line_type, name=\"Line 2-4\")\n",
    "\n",
    "pp.create_transformer(net, bus2, bus3, std_type=\"0.25 MVA 20/0.4 kV\", name=\"Trafo 2-3\")\n",
    "net.trafo.shift_degree = 0.0 # bug in pandapwer \n",
    "\n",
    "pp.create_ext_grid(net, bus=bus2, vm_pu=1.02, name=\"Grid Connection\")\n",
    "\n",
    "pp.create_load(net, bus3, p_mw=0.2, q_mvar=0.05, name=\"Load Bus 3\")\n",
    "pp.create_load(net, bus4, p_mw=0.3, q_mvar=0.1, name=\"Load Bus 4\")\n",
    "\n",
    "pp.runpp(net)\n",
    "\n",
    "edge_index = get_edge_index_from_ppnet(net=net)"
   ]
  },
  {
   "cell_type": "markdown",
   "id": "904fd8d6",
   "metadata": {},
   "source": [
    "### Initialize the variables"
   ]
  },
  {
   "cell_type": "code",
   "execution_count": 3,
   "id": "d608d66a",
   "metadata": {},
   "outputs": [
    {
     "name": "stdout",
     "output_type": "stream",
     "text": [
      "Set parameter Username\n",
      "Set parameter LicenseID to value 2654438\n",
      "Academic license - for non-commercial use only - expires 2026-04-19\n"
     ]
    }
   ],
   "source": [
    "# how many buses are there? \n",
    "num_buses = len(net.bus.index)\n",
    "\n",
    "# how many state-variables \n",
    "n = 2*num_buses - 1 # \\theta_1 = 0 for reference \n",
    "\n",
    "# consider fully-observable network, so number of measurements >= number of states \n",
    "# using two measurements of active power and voltage at each bus \n",
    "m = 2*num_buses\n",
    "\n",
    "# initialize model \n",
    "gp_model = gp.Model(\"WLS_State_Estimation\")\n",
    "\n",
    "# measurement vector as 5% tolerance to power flow results \n",
    "V_meas = np.random.normal(net.res_bus.vm_pu.values, 0.05/3)\n",
    "P_meas = np.random.normal(net.res_bus.p_mw.values, 0.05/3)\n",
    "\n",
    "# Gurobi variables for estimated voltages and angles\n",
    "# subject to voltage violations and angle violations \n",
    "X_vm_pu = {i: gp_model.addVar(name=f\"|V|_bus{i}\") for i in range(n)}\n",
    "X_va_deg = {i: gp_model.addVar(name=f\"A_bus{i}\") for i in range(n)}\n",
    "\n",
    "# slack bus angle \n",
    "X_va_deg[0].LB, X_va_deg[0].UB = 0.0, 0.0 \n",
    "gp_model.update()\n"
   ]
  },
  {
   "cell_type": "code",
   "execution_count": 4,
   "id": "3db0dd34",
   "metadata": {},
   "outputs": [],
   "source": [
    "# get line and transformer parameters\n",
    "# param_dict = {(i, j): [G_ij, B_ij, g_s_ij, b_s_ij, g_sh_ij, b_sh_ij]}\n",
    "# TODO: add tap-changing transformers and mutual coupling between lines\n",
    "param_dict = get_branch_parameters(net=net) \n"
   ]
  },
  {
   "cell_type": "code",
   "execution_count": 7,
   "id": "245f24c6",
   "metadata": {},
   "outputs": [
    {
     "data": {
      "text/plain": [
       "{0: [1, 3], 1: [0, 2, 3], 3: [0, 1], 2: [1]}"
      ]
     },
     "execution_count": 7,
     "metadata": {},
     "output_type": "execute_result"
    }
   ],
   "source": [
    "# get neighbor_dictionary \n",
    "# neighbor_dict = {src: [neighbors]}\n",
    "neighbor_dict = get_neighbor_dict(edge_index)\n",
    "neighbor_dict"
   ]
  },
  {
   "cell_type": "code",
   "execution_count": 6,
   "id": "ae99787c",
   "metadata": {},
   "outputs": [
    {
     "ename": "NameError",
     "evalue": "name 'setMobjective' is not defined",
     "output_type": "error",
     "traceback": [
      "\u001b[31m---------------------------------------------------------------------------\u001b[39m",
      "\u001b[31mNameError\u001b[39m                                 Traceback (most recent call last)",
      "\u001b[36mCell\u001b[39m\u001b[36m \u001b[39m\u001b[32mIn[6]\u001b[39m\u001b[32m, line 2\u001b[39m\n\u001b[32m      1\u001b[39m obj = ... \n\u001b[32m----> \u001b[39m\u001b[32m2\u001b[39m gp_model.setObjective, \u001b[43msetMobjective\u001b[49m, setObjectiveN \n",
      "\u001b[31mNameError\u001b[39m: name 'setMobjective' is not defined"
     ]
    }
   ],
   "source": [
    "obj = ... \n",
    "gp_model.setObjective, setMobjective, setObjectiveN \n",
    "\n"
   ]
  },
  {
   "cell_type": "code",
   "execution_count": null,
   "id": "5875a1be",
   "metadata": {},
   "outputs": [
    {
     "name": "stdout",
     "output_type": "stream",
     "text": [
      "Gurobi Optimizer version 12.0.1 build v12.0.1rc0 (mac64[arm] - Darwin 24.4.0 24E263)\n",
      "\n",
      "CPU model: Apple M4\n",
      "Thread count: 10 physical cores, 10 logical processors, using up to 10 threads\n",
      "\n",
      "Optimize a model with 0 rows, 8 columns and 0 nonzeros\n",
      "Model fingerprint: 0xce0680e8\n",
      "Model has 8 quadratic objective terms\n",
      "Coefficient statistics:\n",
      "  Matrix range     [0e+00, 0e+00]\n",
      "  Objective range  [4e-01, 2e+00]\n",
      "  QObjective range [2e+00, 2e+00]\n",
      "  Bounds range     [9e-01, 1e+00]\n",
      "  RHS range        [0e+00, 0e+00]\n",
      "Presolve removed 0 rows and 8 columns\n",
      "Presolve time: 0.00s\n",
      "Presolve: All rows and columns removed\n",
      "\n",
      "Barrier solved model in 0 iterations and 0.01 seconds (0.00 work units)\n",
      "Optimal objective -1.11022302e-16\n",
      "Bus 1: V_est = 1.0200, P_est = -0.5031\n",
      "Bus 2: V_est = 1.0196, P_est = -0.0000\n",
      "Bus 3: V_est = 1.0049, P_est = 0.2000\n",
      "Bus 4: V_est = 1.0196, P_est = 0.3000\n"
     ]
    }
   ],
   "source": [
    "import pandapower as pp\n",
    "import pandapower.networks as pn\n",
    "from gurobipy import Model, GRB, QuadExpr\n",
    "import numpy as np\n",
    "\n",
    "# Set up the network\n",
    "net = pp.create_empty_network()\n",
    "bus1 = pp.create_bus(net, vn_kv=20.0, name=\"Bus 1\")\n",
    "bus2 = pp.create_bus(net, vn_kv=20.0, name=\"Bus 2\")\n",
    "bus3 = pp.create_bus(net, vn_kv=0.4, name=\"Bus 3\")\n",
    "bus4 = pp.create_bus(net, vn_kv=20.0, name=\"Bus 4\")\n",
    "\n",
    "std_line_type = \"NAYY 4x50 SE\"\n",
    "pp.create_line(net, from_bus=bus1, to_bus=bus2, length_km=1.0, std_type=std_line_type)\n",
    "pp.create_line(net, from_bus=bus1, to_bus=bus4, length_km=1.0, std_type=std_line_type)\n",
    "pp.create_line(net, from_bus=bus2, to_bus=bus4, length_km=1.0, std_type=std_line_type)\n",
    "pp.create_transformer(net, bus2, bus3, std_type=\"0.4 MVA 20/0.4 kV\")\n",
    "net.trafo.shift_degree = 0.0\n",
    "\n",
    "pp.create_ext_grid(net, bus=bus1, vm_pu=1.02)\n",
    "pp.create_load(net, bus3, p_mw=0.2, q_mvar=0.05)\n",
    "pp.create_load(net, bus4, p_mw=0.3, q_mvar=0.1)\n",
    "\n",
    "# Run power flow to get \"measurements\"\n",
    "pp.runpp(net)\n",
    "\n",
    "# Extract voltage magnitudes and active powers\n",
    "V_meas = net.res_bus.vm_pu.values \n",
    "P_meas = net.res_bus.p_mw.values\n",
    "\n",
    "# Define weights (you can customize these)\n",
    "w_V = np.ones_like(V_meas) * 1.0  # weight for voltage error\n",
    "w_P = np.ones_like(P_meas) * 1.0   # weight for power error\n",
    "\n",
    "# Create Gurobi model\n",
    "m = Model(\"WLS_StateEstimation\")\n",
    "\n",
    "# Gurobi variables for estimated voltages and active powers\n",
    "V_est = {i: m.addVar(lb=0.9, ub=1.1, name=f\"V_bus{i}\") for i in range(len(V_meas))}\n",
    "P_est = {i: m.addVar(lb=-1.0, ub=1.0, name=f\"P_bus{i}\") for i in range(len(P_meas))}\n",
    "\n",
    "m.update()\n",
    "\n",
    "# Build WLS objective function\n",
    "obj = QuadExpr()\n",
    "for i in range(len(V_meas)):\n",
    "    obj += w_V[i] * (V_est[i] - V_meas[i]) * (V_est[i] - V_meas[i])\n",
    "    obj += w_P[i] * (P_est[i] - P_meas[i]) * (P_est[i] - P_meas[i])\n",
    "\n",
    "m.setObjective(obj, GRB.MINIMIZE)\n",
    "\n",
    "# (Optional) Add physics-based constraints later\n",
    "\n",
    "m.optimize()\n",
    "\n",
    "# Output estimated states\n",
    "for i in range(len(V_meas)):\n",
    "    print(f\"Bus {i+1}: V_est = {V_est[i].X:.4f}, P_est = {P_est[i].X:.4f}\")\n"
   ]
  },
  {
   "cell_type": "code",
   "execution_count": null,
   "id": "c4f68c86",
   "metadata": {},
   "outputs": [
    {
     "data": {
      "text/plain": [
       "1.02"
      ]
     },
     "execution_count": 25,
     "metadata": {},
     "output_type": "execute_result"
    }
   ],
   "source": [
    "V_est[0].x"
   ]
  },
  {
   "cell_type": "code",
   "execution_count": null,
   "id": "3a1d7a79",
   "metadata": {},
   "outputs": [
    {
     "data": {
      "text/plain": [
       "array([0])"
      ]
     },
     "execution_count": 7,
     "metadata": {},
     "output_type": "execute_result"
    }
   ],
   "source": [
    "net.trafo.index.values"
   ]
  },
  {
   "cell_type": "code",
   "execution_count": null,
   "id": "93eb591d",
   "metadata": {},
   "outputs": [],
   "source": []
  }
 ],
 "metadata": {
  "kernelspec": {
   "display_name": ".venv",
   "language": "python",
   "name": "python3"
  },
  "language_info": {
   "codemirror_mode": {
    "name": "ipython",
    "version": 3
   },
   "file_extension": ".py",
   "mimetype": "text/x-python",
   "name": "python",
   "nbconvert_exporter": "python",
   "pygments_lexer": "ipython3",
   "version": "3.11.11"
  }
 },
 "nbformat": 4,
 "nbformat_minor": 5
}
