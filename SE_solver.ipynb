{
 "cells": [
  {
   "cell_type": "markdown",
   "id": "9ad056ed",
   "metadata": {},
   "source": [
    "# Power-system State-Estimation using Gurobi "
   ]
  },
  {
   "cell_type": "markdown",
   "id": "001ef648",
   "metadata": {},
   "source": [
    "This notebook will take you through the steps required to perform custom Weighted Least Squares State-Estimation for a few pandapower networks. \n",
    "\n",
    "Methodology: \n",
    "\n"
   ]
  },
  {
   "cell_type": "code",
   "execution_count": 14,
   "id": "d21af417",
   "metadata": {},
   "outputs": [],
   "source": [
    "import gurobipy as gp \n",
    "import logging \n",
    "import os \n",
    "import pandapower as pp \n",
    "import numpy as np \n",
    "import pandas as pd \n",
    "from utils import get_branch_parameters, get_edge_index_from_ppnet, get_neighbor_dict\n",
    "from gurobipy import nlfunc\n",
    "from gurobipy import GRB\n",
    "\n",
    "# configure logging\n",
    "log_dir = \"logs\"\n",
    "log_file = \"script_log.txt\"\n",
    "\n",
    "# ensure log directory exists\n",
    "os.makedirs(log_dir, exist_ok=True)\n",
    "\n",
    "logging.basicConfig(\n",
    "    filename=os.path.join(log_dir, log_file),\n",
    "    level=logging.INFO,\n",
    "    format=\"%(asctime)s - %(levelname)s - %(message)s\",\n",
    ")\n",
    "\n",
    "env = gp.Env(params={\"LogToConsole\": 0})"
   ]
  },
  {
   "cell_type": "markdown",
   "id": "b417ace0",
   "metadata": {},
   "source": [
    "## Consider a 4-Bus Network: \n",
    "\n",
    "<img src=\"4_bus_network/4_bus_network.001.jpeg\" width=\"500\">"
   ]
  },
  {
   "cell_type": "code",
   "execution_count": 15,
   "id": "93ee116f",
   "metadata": {},
   "outputs": [],
   "source": [
    "net = pp.create_empty_network()\n",
    "\n",
    "bus1 = pp.create_bus(net, vn_kv=20.0, name=\"Bus 1\")\n",
    "bus2 = pp.create_bus(net, vn_kv=20.0, name=\"Bus 2\")\n",
    "bus3 = pp.create_bus(net, vn_kv=0.4, name=\"Bus 3\")  # connected via transformer\n",
    "bus4 = pp.create_bus(net, vn_kv=20.0, name=\"Bus 4\")\n",
    "\n",
    "nodes = net.bus.index.values\n",
    "\n",
    "# standard 20 kV line type \n",
    "std_line_type = \"NAYY 4x50 SE\"\n",
    "\n",
    "# Create standard lines\n",
    "pp.create_line(net, from_bus=bus1, to_bus=bus2, length_km=1.0,\n",
    "               std_type=std_line_type, name=\"Line 1-2\")\n",
    "\n",
    "pp.create_line(net, from_bus=bus1, to_bus=bus4, length_km=1.0,\n",
    "               std_type=std_line_type, name=\"Line 1-4\")\n",
    "\n",
    "pp.create_line(net, from_bus=bus2, to_bus=bus4, length_km=1.0,\n",
    "               std_type=std_line_type, name=\"Line 2-4\")\n",
    "\n",
    "pp.create_transformer(net, bus2, bus3, std_type=\"0.25 MVA 20/0.4 kV\", name=\"Trafo 2-3\")\n",
    "net.trafo.shift_degree = 0.0 # bug in pandapwer \n",
    "\n",
    "pp.create_ext_grid(net, bus=bus2, vm_pu=1.02, name=\"Grid Connection\")\n",
    "\n",
    "pp.create_load(net, bus3, p_mw=0.2, q_mvar=0.05, name=\"Load Bus 3\")\n",
    "pp.create_load(net, bus4, p_mw=0.3, q_mvar=0.1, name=\"Load Bus 4\")\n",
    "\n",
    "pp.runpp(net)\n",
    "\n",
    "edge_index = get_edge_index_from_ppnet(net=net)"
   ]
  },
  {
   "cell_type": "markdown",
   "id": "904fd8d6",
   "metadata": {},
   "source": [
    "### Initialize the variables"
   ]
  },
  {
   "cell_type": "code",
   "execution_count": 16,
   "id": "d608d66a",
   "metadata": {},
   "outputs": [],
   "source": [
    "# how many buses are there? \n",
    "num_buses = len(net.bus.index)\n",
    "\n",
    "# how many state-variables \n",
    "n = 2*num_buses - 1 # \\theta_1 = 0 for reference \n",
    "\n",
    "# consider fully-observable network, so number of measurements >= number of states \n",
    "# using two measurements of active power and voltage at each bus \n",
    "m = 2*num_buses\n",
    "\n",
    "# initialize model \n",
    "gp_model = gp.Model(\"WLS_State_Estimation\")\n",
    "\n",
    "# measurement vector as 5% tolerance to power flow results \n",
    "V_meas = np.random.normal(net.res_bus.vm_pu.values, 0.05/3)\n",
    "P_meas = np.random.normal(net.res_bus.p_mw.values, 0.05/3)\n",
    "\n",
    "# Gurobi variables for estimated voltages and angles\n",
    "# subject to voltage violations and angle violations \n",
    "X_vm_pu = {i: gp_model.addVar(name=f\"|V|_bus{i}\") for i in range(num_buses)}\n",
    "X_va_rad = {i: gp_model.addVar(name=f\"A_bus{i}\") for i in range(num_buses)}\n",
    "\n",
    "# slack bus angle \n",
    "X_va_rad[0].LB, X_va_rad[0].UB = 0.0, 0.0 \n",
    "gp_model.update()\n"
   ]
  },
  {
   "cell_type": "code",
   "execution_count": 18,
   "id": "3db0dd34",
   "metadata": {},
   "outputs": [
    {
     "data": {
      "text/plain": [
       "{(0, 1): [-612.8103127766655,\n",
       "  79.22625539012964,\n",
       "  612.8103127766655,\n",
       "  -79.22625539012964,\n",
       "  0.0,\n",
       "  -0.02638937829015426],\n",
       " (0, 3): [-612.8103127766655,\n",
       "  79.22625539012964,\n",
       "  612.8103127766655,\n",
       "  -79.22625539012964,\n",
       "  0.0,\n",
       "  -0.02638937829015426],\n",
       " (1, 3): [-612.8103127766655,\n",
       "  79.22625539012964,\n",
       "  612.8103127766655,\n",
       "  -79.22625539012964,\n",
       "  0.0,\n",
       "  -0.02638937829015426],\n",
       " (1, 2): [-0.9998000023044077,\n",
       "  4.044887023851327,\n",
       "  0.9998000023044077,\n",
       "  -4.044887023851327,\n",
       "  0.0007999907823690311,\n",
       "  -3.7276819853104826e-08],\n",
       " (1, 0): [-612.8103127766655,\n",
       "  79.22625539012964,\n",
       "  612.8103127766655,\n",
       "  -79.22625539012964,\n",
       "  0.0,\n",
       "  -0.02638937829015426],\n",
       " (3, 0): [-612.8103127766655,\n",
       "  79.22625539012964,\n",
       "  612.8103127766655,\n",
       "  -79.22625539012964,\n",
       "  0.0,\n",
       "  -0.02638937829015426],\n",
       " (3, 1): [-612.8103127766655,\n",
       "  79.22625539012964,\n",
       "  612.8103127766655,\n",
       "  -79.22625539012964,\n",
       "  0.0,\n",
       "  -0.02638937829015426],\n",
       " (2, 1): [-0.9998000023044077,\n",
       "  4.044887023851327,\n",
       "  0.9998000023044077,\n",
       "  -4.044887023851327,\n",
       "  0.0007999907823690311,\n",
       "  -3.7276819853104826e-08]}"
      ]
     },
     "execution_count": 18,
     "metadata": {},
     "output_type": "execute_result"
    }
   ],
   "source": [
    "# get line and transformer parameters\n",
    "# param_dict = {(i, j): [G_ij, B_ij, g_s_ij, b_s_ij, g_sh_ij, b_sh_ij]}\n",
    "# TODO: add tap-changing transformers and mutual coupling between lines\n",
    "param_dict = get_branch_parameters(net=net) \n",
    "param_dict"
   ]
  },
  {
   "cell_type": "code",
   "execution_count": 19,
   "id": "245f24c6",
   "metadata": {},
   "outputs": [
    {
     "data": {
      "text/plain": [
       "{0: [1, 3], 1: [0, 2, 3], 3: [0, 1], 2: [1]}"
      ]
     },
     "execution_count": 19,
     "metadata": {},
     "output_type": "execute_result"
    }
   ],
   "source": [
    "# get neighbor_dictionary \n",
    "# neighbor_dict = {src: [neighbors]}\n",
    "neighbor_dict = get_neighbor_dict(edge_index)\n",
    "neighbor_dict"
   ]
  },
  {
   "cell_type": "code",
   "execution_count": null,
   "id": "ae99787c",
   "metadata": {},
   "outputs": [
    {
     "data": {
      "text/plain": [
       "({0: <gurobi.NLExpr: -0.006028269834233913 + 0.0 + |V|_bus0 * |V|_bus1 * (-612.8103127766655 * cos(A_bus0 + -1.0 * A_bus1) + 79.22625539012964 * sin(A_bus0 + -1.0 * A_bus1)) + |V|_bus0 * |V|_bus3 * (-612.8103127766655 * cos(A_bus0 + -1.0 * A_bus3) + 79.22625539012964 * sin(A_bus0 + -1.0 * A_bus3))>,\n",
       "  1: <gurobi.NLExpr: -0.49769935907160945 + 0.0 + |V|_bus1 * |V|_bus0 * (-612.8103127766655 * cos(A_bus1 + -1.0 * A_bus0) + 79.22625539012964 * sin(A_bus1 + -1.0 * A_bus0)) + |V|_bus1 * |V|_bus2 * (-0.9998000023044077 * cos(A_bus1 + -1.0 * A_bus2) + 4.044887023851327 * sin(A_bus1 + -1.0 * A_bus2)) + |V|_bus1 * |V|_bus3 * (-612.8103127766655 * cos(A_bus1 + -1.0 * A_bus3) + 79.22625539012964 * sin(A_bus1 + -1.0 * A_bus3))>,\n",
       "  2: <gurobi.NLExpr: 0.17759383670447107 + 0.0 + |V|_bus2 * |V|_bus1 * (-0.9998000023044077 * cos(A_bus2 + -1.0 * A_bus1) + 4.044887023851327 * sin(A_bus2 + -1.0 * A_bus1))>,\n",
       "  3: <gurobi.NLExpr: 0.3325629357843368 + 0.0 + |V|_bus3 * |V|_bus0 * (-612.8103127766655 * cos(A_bus3 + -1.0 * A_bus0) + 79.22625539012964 * sin(A_bus3 + -1.0 * A_bus0)) + |V|_bus3 * |V|_bus1 * (-612.8103127766655 * cos(A_bus3 + -1.0 * A_bus1) + 79.22625539012964 * sin(A_bus3 + -1.0 * A_bus1))>},\n",
       " {0: <gurobi.LinExpr: -1.0153176725210538 + |V|_bus0>,\n",
       "  1: <gurobi.LinExpr: -1.014923063151568 + |V|_bus1>,\n",
       "  2: <gurobi.LinExpr: -0.9914493545642806 + |V|_bus2>,\n",
       "  3: <gurobi.LinExpr: -1.032904009144382 + |V|_bus3>})"
      ]
     },
     "execution_count": 20,
     "metadata": {},
     "output_type": "execute_result"
    }
   ],
   "source": [
    "# create expressions for power injection and voltage \n",
    "\n",
    "# gp_model.addConstr(\n",
    "#     (X_vm_pu[i]*X_va_deg[j]()) for j in neighbor_dict[i] for i in nodes, \n",
    "#     name=f\"P_meas_{i}\"\n",
    "\n",
    "# )\n",
    "\n",
    "# Gurobi variables for estimated voltages and angles\n",
    "# subject to voltage violations and angle violations \n",
    "X_vm_pu = {i: gp_model.addVar(name=f\"|V|_bus{i}\") for i in range(num_buses)}\n",
    "X_va_rad = {i: gp_model.addVar(name=f\"A_bus{i}\") for i in range(num_buses)}\n",
    "\n",
    "# slack bus angle \n",
    "X_va_rad[0].LB, X_va_rad[0].UB = 0.0, 0.0 \n",
    "gp_model.update()\n",
    "\n",
    "P_meas_expr = {int(i): [] for i in nodes}\n",
    "V_meas_expr = {int(i): [] for i in nodes}\n",
    "\n",
    "for i in nodes: \n",
    "    i = int(i)\n",
    "    P_meas_i = 0.0\n",
    "    for j in neighbor_dict[i]:\n",
    "        j = int(j)\n",
    "        P_meas_i += X_vm_pu[i] * X_vm_pu[j] * (param_dict[(i,j)][0]*nlfunc.cos(X_va_rad[i] - X_va_rad[j]) + \n",
    "                                               param_dict[(i,j)][1]*nlfunc.sin(X_va_rad[i] - X_va_rad[j]))\n",
    "    # capture the expressions \n",
    "    P_meas_expr[i] = P_meas[i] + P_meas_i \n",
    "    V_meas_expr[i] = X_vm_pu[i] - V_meas[i]\n",
    "    # gp_model.addConstr(0 == P_meas_i - P_meas[i], name=f\"P_meas[{i}]\")\n",
    "    # gp_model.addConstr(0 == V_meas[i] - X_vm_pu[i], name=f\"V_meas[{i}]\")\n",
    "    # break\n",
    "\n",
    "P_meas_expr, V_meas_expr"
   ]
  },
  {
   "cell_type": "code",
   "execution_count": 21,
   "id": "b9ef37ca",
   "metadata": {},
   "outputs": [
    {
     "ename": "GurobiError",
     "evalue": "Objective must be linear or quadratic",
     "output_type": "error",
     "traceback": [
      "\u001b[31m---------------------------------------------------------------------------\u001b[39m",
      "\u001b[31mGurobiError\u001b[39m                               Traceback (most recent call last)",
      "\u001b[36mCell\u001b[39m\u001b[36m \u001b[39m\u001b[32mIn[21]\u001b[39m\u001b[32m, line 3\u001b[39m\n\u001b[32m      1\u001b[39m objective = \u001b[38;5;28msum\u001b[39m(P_meas_expr.values()) + \u001b[38;5;28msum\u001b[39m(V_meas_expr.values())\n\u001b[32m----> \u001b[39m\u001b[32m3\u001b[39m \u001b[43mgp_model\u001b[49m\u001b[43m.\u001b[49m\u001b[43msetObjective\u001b[49m\u001b[43m(\u001b[49m\u001b[43mobjective\u001b[49m\u001b[43m,\u001b[49m\u001b[43m \u001b[49m\u001b[43mGRB\u001b[49m\u001b[43m.\u001b[49m\u001b[43mMINIMIZE\u001b[49m\u001b[43m)\u001b[49m\n",
      "\u001b[36mFile \u001b[39m\u001b[32msrc/gurobipy/_model.pyx:1666\u001b[39m, in \u001b[36mgurobipy._model.Model.setObjective\u001b[39m\u001b[34m()\u001b[39m\n",
      "\u001b[31mGurobiError\u001b[39m: Objective must be linear or quadratic"
     ]
    }
   ],
   "source": [
    "objective = sum(P_meas_expr.values()) + sum(V_meas_expr.values())\n",
    "\n",
    "gp_model.setObjective(objective, GRB.MINIMIZE)"
   ]
  },
  {
   "cell_type": "code",
   "execution_count": 23,
   "id": "63478ee8",
   "metadata": {},
   "outputs": [
    {
     "name": "stdout",
     "output_type": "stream",
     "text": [
      "Set parameter NonConvex to value 2\n"
     ]
    },
    {
     "ename": "TypeError",
     "evalue": "addGenConstrNL() got multiple values for keyword argument 'name'",
     "output_type": "error",
     "traceback": [
      "\u001b[31m---------------------------------------------------------------------------\u001b[39m",
      "\u001b[31mTypeError\u001b[39m                                 Traceback (most recent call last)",
      "\u001b[36mCell\u001b[39m\u001b[36m \u001b[39m\u001b[32mIn[23]\u001b[39m\u001b[32m, line 8\u001b[39m\n\u001b[32m      4\u001b[39m obj_var = gp_model.addVar(name=\u001b[33m\"\u001b[39m\u001b[33mobjective\u001b[39m\u001b[33m\"\u001b[39m, lb=-GRB.INFINITY)\n\u001b[32m      7\u001b[39m \u001b[38;5;66;03m# Set obj_var equal to the full nonlinear expression\u001b[39;00m\n\u001b[32m----> \u001b[39m\u001b[32m8\u001b[39m \u001b[43mgp_model\u001b[49m\u001b[43m.\u001b[49m\u001b[43maddGenConstrNL\u001b[49m\u001b[43m(\u001b[49m\u001b[43mobj_var\u001b[49m\u001b[43m,\u001b[49m\u001b[43m \u001b[49m\u001b[38;5;28;43msum\u001b[39;49m\u001b[43m(\u001b[49m\u001b[43mP_meas_expr\u001b[49m\u001b[43m.\u001b[49m\u001b[43mvalues\u001b[49m\u001b[43m(\u001b[49m\u001b[43m)\u001b[49m\u001b[43m)\u001b[49m\u001b[43m \u001b[49m\u001b[43m+\u001b[49m\u001b[43m \u001b[49m\u001b[38;5;28;43msum\u001b[39;49m\u001b[43m(\u001b[49m\u001b[43mV_meas_expr\u001b[49m\u001b[43m.\u001b[49m\u001b[43mvalues\u001b[49m\u001b[43m(\u001b[49m\u001b[43m)\u001b[49m\u001b[43m)\u001b[49m\u001b[43m,\u001b[49m\u001b[43m \u001b[49m\u001b[33;43m\"\u001b[39;49m\u001b[33;43m=\u001b[39;49m\u001b[33;43m\"\u001b[39;49m\u001b[43m,\u001b[49m\u001b[43m \u001b[49m\u001b[43mname\u001b[49m\u001b[43m=\u001b[49m\u001b[33;43m\"\u001b[39;49m\u001b[33;43mobj_def\u001b[39;49m\u001b[33;43m\"\u001b[39;49m\u001b[43m)\u001b[49m\n\u001b[32m     10\u001b[39m \u001b[38;5;66;03m# Then minimize that variable\u001b[39;00m\n\u001b[32m     11\u001b[39m gp_model.setObjective(obj_var, GRB.MINIMIZE)\n",
      "\u001b[36mFile \u001b[39m\u001b[32msrc/gurobipy/_model.pyx:5045\u001b[39m, in \u001b[36mgurobipy._model.Model.addGenConstrNL\u001b[39m\u001b[34m()\u001b[39m\n",
      "\u001b[31mTypeError\u001b[39m: addGenConstrNL() got multiple values for keyword argument 'name'"
     ]
    }
   ],
   "source": [
    "gp_model.setParam(\"NonConvex\", 2)  # Allows non-convex MINLP problems\n",
    "\n",
    "# Use a variable to represent the nonlinear objective value\n",
    "obj_var = gp_model.addVar(name=\"objective\", lb=-GRB.INFINITY)\n",
    "\n",
    "\n",
    "# Set obj_var equal to the full nonlinear expression\n",
    "gp_model.addGenConstrNL(obj_var, sum(P_meas_expr.values()) + sum(V_meas_expr.values()), \"=\", name=\"obj_def\")\n",
    "\n",
    "# Then minimize that variable\n",
    "gp_model.setObjective(obj_var, GRB.MINIMIZE)\n"
   ]
  },
  {
   "cell_type": "code",
   "execution_count": null,
   "id": "44a83a48",
   "metadata": {},
   "outputs": [
    {
     "name": "stdout",
     "output_type": "stream",
     "text": [
      "-612.8103127766655 79.22625539012964\n",
      "-612.8103127766655 79.22625539012964\n"
     ]
    },
    {
     "ename": "KeyError",
     "evalue": "(1, 0)",
     "output_type": "error",
     "traceback": [
      "\u001b[31m---------------------------------------------------------------------------\u001b[39m",
      "\u001b[31mKeyError\u001b[39m                                  Traceback (most recent call last)",
      "\u001b[36mCell\u001b[39m\u001b[36m \u001b[39m\u001b[32mIn[20]\u001b[39m\u001b[32m, line 9\u001b[39m\n\u001b[32m      7\u001b[39m \u001b[38;5;28;01mfor\u001b[39;00m j \u001b[38;5;129;01min\u001b[39;00m neighbor_dict[i]:\n\u001b[32m      8\u001b[39m     delta_theta = X_va_rad[i] - X_va_rad[j]\n\u001b[32m----> \u001b[39m\u001b[32m9\u001b[39m     \u001b[38;5;28mprint\u001b[39m(\u001b[43mparam_dict\u001b[49m\u001b[43m[\u001b[49m\u001b[43m(\u001b[49m\u001b[38;5;28;43mint\u001b[39;49m\u001b[43m(\u001b[49m\u001b[43mi\u001b[49m\u001b[43m)\u001b[49m\u001b[43m,\u001b[49m\u001b[43m \u001b[49m\u001b[38;5;28;43mint\u001b[39;49m\u001b[43m(\u001b[49m\u001b[43mj\u001b[49m\u001b[43m)\u001b[49m\u001b[43m)\u001b[49m\u001b[43m]\u001b[49m[\u001b[32m0\u001b[39m], param_dict[(\u001b[38;5;28mint\u001b[39m(i), \u001b[38;5;28mint\u001b[39m(j))][\u001b[32m1\u001b[39m])\n\u001b[32m     10\u001b[39m     Gij, Bij = param_dict[(i, j)][\u001b[32m0\u001b[39m], param_dict[(i, j)][\u001b[32m1\u001b[39m]\n\u001b[32m     11\u001b[39m     expr += X_vm_pu[i] * X_vm_pu[j] * (Gij * nlfunc.cos(delta_theta) + Bij * nlfunc.sin(delta_theta))\n",
      "\u001b[31mKeyError\u001b[39m: (1, 0)"
     ]
    }
   ],
   "source": [
    "P_meas_expr = {}\n",
    "V_meas_expr = {}\n",
    "\n",
    "for i in nodes:\n",
    "    # Build nonlinear expression symbolically\n",
    "    expr = 0.0\n",
    "    for j in neighbor_dict[i]:\n",
    "        # only if (i,j) in \n",
    "        delta_theta = X_va_rad[i] - X_va_rad[j]\n",
    "        print(param_dict[(int(i), int(j))][0], param_dict[(int(i), int(j))][1])\n",
    "        Gij, Bij = param_dict[(i, j)][0], param_dict[(i, j)][1]\n",
    "        expr += X_vm_pu[i] * X_vm_pu[j] * (Gij * nlfunc.cos(delta_theta) + Bij * nlfunc.sin(delta_theta))\n",
    "    \n",
    "    # Store the symbolic expressions\n",
    "    P_meas_expr[i] = expr\n",
    "    V_meas_expr[i] = X_vm_pu[i] - V_meas[i]\n"
   ]
  },
  {
   "cell_type": "code",
   "execution_count": 23,
   "id": "d8fca72d",
   "metadata": {},
   "outputs": [
    {
     "data": {
      "text/plain": [
       "({0: [1, 3], 1: [0, 2, 3], 3: [0, 1], 2: [1]},\n",
       " {(0, 1): [-612.8103127766655,\n",
       "   79.22625539012964,\n",
       "   612.8103127766655,\n",
       "   -79.22625539012964,\n",
       "   0.0,\n",
       "   -0.02638937829015426],\n",
       "  (0, 3): [-612.8103127766655,\n",
       "   79.22625539012964,\n",
       "   612.8103127766655,\n",
       "   -79.22625539012964,\n",
       "   0.0,\n",
       "   -0.02638937829015426],\n",
       "  (1, 3): [-612.8103127766655,\n",
       "   79.22625539012964,\n",
       "   612.8103127766655,\n",
       "   -79.22625539012964,\n",
       "   0.0,\n",
       "   -0.02638937829015426],\n",
       "  (1, 2): [-0.9998000023044077,\n",
       "   4.044887023851327,\n",
       "   0.9998000023044077,\n",
       "   -4.044887023851327,\n",
       "   0.0007999907823690311,\n",
       "   -3.7276819853104826e-08]})"
      ]
     },
     "execution_count": 23,
     "metadata": {},
     "output_type": "execute_result"
    }
   ],
   "source": [
    "neighbor_dict, param_dict"
   ]
  },
  {
   "cell_type": "code",
   "execution_count": null,
   "id": "158287e8",
   "metadata": {},
   "outputs": [],
   "source": []
  }
 ],
 "metadata": {
  "kernelspec": {
   "display_name": ".venv",
   "language": "python",
   "name": "python3"
  },
  "language_info": {
   "codemirror_mode": {
    "name": "ipython",
    "version": 3
   },
   "file_extension": ".py",
   "mimetype": "text/x-python",
   "name": "python",
   "nbconvert_exporter": "python",
   "pygments_lexer": "ipython3",
   "version": "3.11.11"
  }
 },
 "nbformat": 4,
 "nbformat_minor": 5
}
